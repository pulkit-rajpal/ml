{
 "cells": [
  {
   "cell_type": "code",
   "execution_count": 1,
   "metadata": {
    "collapsed": true
   },
   "outputs": [],
   "source": [
    "import numpy as np\n",
    "from sklearn import datasets"
   ]
  },
  {
   "cell_type": "code",
   "execution_count": 17,
   "metadata": {
    "collapsed": true
   },
   "outputs": [],
   "source": [
    "iris = datasets.load_sample_images()"
   ]
  },
  {
   "cell_type": "code",
   "execution_count": 19,
   "metadata": {
    "collapsed": false
   },
   "outputs": [
    {
     "name": "stdout",
     "output_type": "stream",
     "text": [
      "{'images': [array([[[174, 201, 231],\n",
      "        [174, 201, 231],\n",
      "        [174, 201, 231],\n",
      "        ..., \n",
      "        [250, 251, 255],\n",
      "        [250, 251, 255],\n",
      "        [250, 251, 255]],\n",
      "\n",
      "       [[172, 199, 229],\n",
      "        [173, 200, 230],\n",
      "        [173, 200, 230],\n",
      "        ..., \n",
      "        [251, 252, 255],\n",
      "        [251, 252, 255],\n",
      "        [251, 252, 255]],\n",
      "\n",
      "       [[174, 201, 231],\n",
      "        [174, 201, 231],\n",
      "        [174, 201, 231],\n",
      "        ..., \n",
      "        [252, 253, 255],\n",
      "        [252, 253, 255],\n",
      "        [252, 253, 255]],\n",
      "\n",
      "       ..., \n",
      "       [[ 88,  80,   7],\n",
      "        [147, 138,  69],\n",
      "        [122, 116,  38],\n",
      "        ..., \n",
      "        [ 39,  42,  33],\n",
      "        [  8,  14,   2],\n",
      "        [  6,  12,   0]],\n",
      "\n",
      "       [[122, 112,  41],\n",
      "        [129, 120,  53],\n",
      "        [118, 112,  36],\n",
      "        ..., \n",
      "        [  9,  12,   3],\n",
      "        [  9,  15,   3],\n",
      "        [ 16,  24,   9]],\n",
      "\n",
      "       [[116, 103,  35],\n",
      "        [104,  93,  31],\n",
      "        [108, 102,  28],\n",
      "        ..., \n",
      "        [ 43,  49,  39],\n",
      "        [ 13,  21,   6],\n",
      "        [ 15,  24,   7]]], dtype=uint8), array([[[ 2, 19, 13],\n",
      "        [ 3, 18, 13],\n",
      "        [ 7, 20, 13],\n",
      "        ..., \n",
      "        [ 1, 77, 64],\n",
      "        [ 0, 76, 64],\n",
      "        [ 0, 75, 63]],\n",
      "\n",
      "       [[ 1, 18, 12],\n",
      "        [ 3, 18, 13],\n",
      "        [ 7, 20, 13],\n",
      "        ..., \n",
      "        [ 0, 76, 64],\n",
      "        [ 1, 74, 65],\n",
      "        [ 1, 74, 65]],\n",
      "\n",
      "       [[ 2, 17, 12],\n",
      "        [ 6, 19, 12],\n",
      "        [ 7, 20, 13],\n",
      "        ..., \n",
      "        [ 1, 74, 65],\n",
      "        [ 1, 74, 67],\n",
      "        [ 1, 74, 67]],\n",
      "\n",
      "       ..., \n",
      "       [[ 0, 46, 40],\n",
      "        [ 1, 48, 40],\n",
      "        [ 1, 47, 37],\n",
      "        ..., \n",
      "        [ 5, 44, 26],\n",
      "        [ 6, 43, 26],\n",
      "        [ 7, 44, 27]],\n",
      "\n",
      "       [[ 0, 47, 41],\n",
      "        [ 1, 48, 40],\n",
      "        [ 1, 47, 37],\n",
      "        ..., \n",
      "        [ 6, 45, 27],\n",
      "        [ 7, 44, 27],\n",
      "        [ 7, 44, 27]],\n",
      "\n",
      "       [[ 0, 47, 41],\n",
      "        [ 1, 48, 40],\n",
      "        [ 0, 46, 36],\n",
      "        ..., \n",
      "        [ 7, 46, 28],\n",
      "        [ 8, 45, 28],\n",
      "        [ 9, 43, 27]]], dtype=uint8)], 'filenames': ['C:\\\\Users\\\\student711\\\\Anaconda3\\\\lib\\\\site-packages\\\\sklearn\\\\datasets\\\\images\\\\china.jpg', 'C:\\\\Users\\\\student711\\\\Anaconda3\\\\lib\\\\site-packages\\\\sklearn\\\\datasets\\\\images\\\\flower.jpg'], 'DESCR': 'Image: china.jpg\\nReleased under a creative commons license. [1]\\nAttribution: Some rights reserved by danielbuechele [2]\\nRetrieved 21st August, 2011 from [3] by Robert Layton\\n\\n[1] http://creativecommons.org/licenses/by/2.0/\\n[2] http://www.flickr.com/photos/danielbuechele/\\n[3] http://www.flickr.com/photos/danielbuechele/6061409035/sizes/z/in/photostream/\\n\\n\\nImage: flower.jpg\\nReleased under a creative commons license. [1]\\nAttribution: Some rights reserved by danielbuechele [2]\\nRetrieved 21st August, 2011 from [3] by Robert Layton\\n\\n[1] http://creativecommons.org/licenses/by/2.0/\\n[2] http://www.flickr.com/photos/vultilion/\\n[3] http://www.flickr.com/photos/vultilion/6056698931/sizes/z/in/photostream/\\n\\n\\n\\n'}\n"
     ]
    }
   ],
   "source": [
    "\n",
    "print(iris)"
   ]
  },
  {
   "cell_type": "code",
   "execution_count": null,
   "metadata": {
    "collapsed": true
   },
   "outputs": [],
   "source": []
  },
  {
   "cell_type": "code",
   "execution_count": null,
   "metadata": {
    "collapsed": true
   },
   "outputs": [],
   "source": []
  }
 ],
 "metadata": {
  "kernelspec": {
   "display_name": "Python 3",
   "language": "python",
   "name": "python3"
  },
  "language_info": {
   "codemirror_mode": {
    "name": "ipython",
    "version": 3
   },
   "file_extension": ".py",
   "mimetype": "text/x-python",
   "name": "python",
   "nbconvert_exporter": "python",
   "pygments_lexer": "ipython3",
   "version": "3.6.6"
  }
 },
 "nbformat": 4,
 "nbformat_minor": 2
}
