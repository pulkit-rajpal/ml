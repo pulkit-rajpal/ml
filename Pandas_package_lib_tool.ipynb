{
 "cells": [
  {
   "cell_type": "markdown",
   "metadata": {},
   "source": [
    "### WED 05-09-2018"
   ]
  },
  {
   "cell_type": "code",
   "execution_count": 163,
   "metadata": {
    "collapsed": false
   },
   "outputs": [],
   "source": [
    "  \n",
    "### R prog is also used for data analysisi\n",
    "### Pandas is a data analysis tool"
   ]
  },
  {
   "cell_type": "code",
   "execution_count": 5,
   "metadata": {
    "collapsed": false
   },
   "outputs": [
    {
     "data": {
      "text/plain": [
       "'1.) series 1D\\n2.) Dataframe 2D\\n3.) Pannel 3D\\n4.) Panel4   4D\\n'"
      ]
     },
     "execution_count": 5,
     "metadata": {},
     "output_type": "execute_result"
    }
   ],
   "source": [
    "# primitive  object in the pandas \n",
    "\"\"\"1.) series 1D\n",
    "2.) Dataframe 2D\n",
    "3.) Pannel 3D\n",
    "4.) Panel4   4D\n",
    "\"\"\""
   ]
  },
  {
   "cell_type": "code",
   "execution_count": 4,
   "metadata": {
    "collapsed": true
   },
   "outputs": [],
   "source": [
    "import pandas as pd"
   ]
  },
  {
   "cell_type": "code",
   "execution_count": 16,
   "metadata": {
    "collapsed": false
   },
   "outputs": [],
   "source": [
    "# creating the series data type in pandas\n",
    "# we can also get the index by ourself\n",
    "my_series = pd.Series([1,2,3,34,34], index =[\"jan\",\"feb\",\"march\",\"april\" ,\"jun\"])"
   ]
  },
  {
   "cell_type": "code",
   "execution_count": 31,
   "metadata": {
    "collapsed": false
   },
   "outputs": [
    {
     "data": {
      "text/plain": [
       "'march'"
      ]
     },
     "execution_count": 31,
     "metadata": {},
     "output_type": "execute_result"
    }
   ],
   "source": [
    "my_series.index.max()"
   ]
  },
  {
   "cell_type": "code",
   "execution_count": 32,
   "metadata": {
    "collapsed": true
   },
   "outputs": [],
   "source": [
    "### Dataframe is a 2D array it is the most useful pandas object \n",
    "#### it is also homogenous and it is non-mutable \n",
    "### we can tabulraise the datay "
   ]
  },
  {
   "cell_type": "code",
   "execution_count": 34,
   "metadata": {
    "collapsed": false
   },
   "outputs": [],
   "source": [
    "dataframe = pd.DataFrame([1,2,3,3,7,76,44,67])"
   ]
  },
  {
   "cell_type": "markdown",
   "metadata": {},
   "source": [
    "<h4>Series  =  list + index</h4>\n",
    "<br>Dataframe    =   Dict + index"
   ]
  },
  {
   "cell_type": "code",
   "execution_count": 37,
   "metadata": {
    "collapsed": false
   },
   "outputs": [
    {
     "data": {
      "text/plain": [
       "'\\nWays to create the dataframe \\n1.) csv (comma seperable values)\\n2.) excel sheet \\n3.) dict\\n4.) list\\n'"
      ]
     },
     "execution_count": 37,
     "metadata": {},
     "output_type": "execute_result"
    }
   ],
   "source": [
    "'''\n",
    "Ways to create the dataframe \n",
    "1.) csv (comma seperable values)\n",
    "2.) excel sheet \n",
    "3.) dict\n",
    "4.) list\n",
    "'''"
   ]
  },
  {
   "cell_type": "code",
   "execution_count": 38,
   "metadata": {
    "collapsed": true
   },
   "outputs": [],
   "source": [
    "import pandas as pd"
   ]
  },
  {
   "cell_type": "code",
   "execution_count": 54,
   "metadata": {
    "collapsed": false
   },
   "outputs": [],
   "source": [
    "mydf = pd.DataFrame({\"Name\": [\"pulkit\" ,\"yogesh\", \"vishal\"] , \"Age\" :[12,12,12], \"Gender\" : [\"male\",\"male\",\"male\"]}, index =['a', 'b', 'c'])"
   ]
  },
  {
   "cell_type": "code",
   "execution_count": 55,
   "metadata": {
    "collapsed": false
   },
   "outputs": [
    {
     "data": {
      "text/html": [
       "<div>\n",
       "<table border=\"1\" class=\"dataframe\">\n",
       "  <thead>\n",
       "    <tr style=\"text-align: right;\">\n",
       "      <th></th>\n",
       "      <th>Age</th>\n",
       "      <th>Gender</th>\n",
       "      <th>Name</th>\n",
       "    </tr>\n",
       "  </thead>\n",
       "  <tbody>\n",
       "    <tr>\n",
       "      <th>a</th>\n",
       "      <td>12</td>\n",
       "      <td>male</td>\n",
       "      <td>pulkit</td>\n",
       "    </tr>\n",
       "    <tr>\n",
       "      <th>b</th>\n",
       "      <td>12</td>\n",
       "      <td>male</td>\n",
       "      <td>yogesh</td>\n",
       "    </tr>\n",
       "    <tr>\n",
       "      <th>c</th>\n",
       "      <td>12</td>\n",
       "      <td>male</td>\n",
       "      <td>vishal</td>\n",
       "    </tr>\n",
       "  </tbody>\n",
       "</table>\n",
       "</div>"
      ],
      "text/plain": [
       "   Age Gender    Name\n",
       "a   12   male  pulkit\n",
       "b   12   male  yogesh\n",
       "c   12   male  vishal"
      ]
     },
     "execution_count": 55,
     "metadata": {},
     "output_type": "execute_result"
    }
   ],
   "source": [
    "mydf"
   ]
  },
  {
   "cell_type": "code",
   "execution_count": 58,
   "metadata": {
    "collapsed": false
   },
   "outputs": [
    {
     "data": {
      "text/plain": [
       "2"
      ]
     },
     "execution_count": 58,
     "metadata": {},
     "output_type": "execute_result"
    }
   ],
   "source": [
    "mydf.ndim"
   ]
  },
  {
   "cell_type": "code",
   "execution_count": 60,
   "metadata": {
    "collapsed": false
   },
   "outputs": [
    {
     "data": {
      "text/plain": [
       "3"
      ]
     },
     "execution_count": 60,
     "metadata": {},
     "output_type": "execute_result"
    }
   ],
   "source": [
    "# the length of the 2D array is number of the columns \n",
    "len(mydf)"
   ]
  },
  {
   "cell_type": "code",
   "execution_count": 65,
   "metadata": {
    "collapsed": false
   },
   "outputs": [
    {
     "data": {
      "text/plain": [
       "a    pulkit\n",
       "b    yogesh\n",
       "c    vishal\n",
       "Name: Name, dtype: object"
      ]
     },
     "execution_count": 65,
     "metadata": {},
     "output_type": "execute_result"
    }
   ],
   "source": [
    "mydf.Name"
   ]
  },
  {
   "cell_type": "code",
   "execution_count": 90,
   "metadata": {
    "collapsed": false
   },
   "outputs": [
    {
     "data": {
      "text/html": [
       "<div>\n",
       "<table border=\"1\" class=\"dataframe\">\n",
       "  <thead>\n",
       "    <tr style=\"text-align: right;\">\n",
       "      <th></th>\n",
       "      <th>Age</th>\n",
       "      <th>Gender</th>\n",
       "      <th>Name</th>\n",
       "    </tr>\n",
       "  </thead>\n",
       "  <tbody>\n",
       "    <tr>\n",
       "      <th>a</th>\n",
       "      <td>12</td>\n",
       "      <td>male</td>\n",
       "      <td>pulkit</td>\n",
       "    </tr>\n",
       "    <tr>\n",
       "      <th>b</th>\n",
       "      <td>12</td>\n",
       "      <td>male</td>\n",
       "      <td>yogesh</td>\n",
       "    </tr>\n",
       "  </tbody>\n",
       "</table>\n",
       "</div>"
      ],
      "text/plain": [
       "   Age Gender    Name\n",
       "a   12   male  pulkit\n",
       "b   12   male  yogesh"
      ]
     },
     "execution_count": 90,
     "metadata": {},
     "output_type": "execute_result"
    }
   ],
   "source": [
    "# if index is integer iloc  \n",
    "# if index is number loc\n",
    "mydf.loc[\"a\"]\n",
    "mydf.iloc[0:2]"
   ]
  },
  {
   "cell_type": "markdown",
   "metadata": {},
   "source": [
    "### Reading the excel file in pandas "
   ]
  },
  {
   "cell_type": "code",
   "execution_count": 92,
   "metadata": {
    "collapsed": false
   },
   "outputs": [],
   "source": [
    "import pandas as pd"
   ]
  },
  {
   "cell_type": "code",
   "execution_count": 122,
   "metadata": {
    "collapsed": false
   },
   "outputs": [],
   "source": [
    "test_data = pd.read_excel(r'C:/Users/student711/Desktop/pulkit/DataSets-master/DataSets-master/Test_Data.xlsx')"
   ]
  },
  {
   "cell_type": "code",
   "execution_count": 141,
   "metadata": {
    "collapsed": false
   },
   "outputs": [
    {
     "data": {
      "text/plain": [
       "Index(['account', 'name', 'street', 'city', 'state', 'postal-code', 'Jan',\n",
       "       'Feb', 'Mar'],\n",
       "      dtype='object')"
      ]
     },
     "execution_count": 141,
     "metadata": {},
     "output_type": "execute_result"
    }
   ],
   "source": [
    "test_data.keys()"
   ]
  },
  {
   "cell_type": "code",
   "execution_count": 142,
   "metadata": {
    "collapsed": false
   },
   "outputs": [
    {
     "data": {
      "text/plain": [
       "Index(['account', 'name', 'street', 'city', 'state', 'postal-code', 'Jan',\n",
       "       'Feb', 'Mar'],\n",
       "      dtype='object')"
      ]
     },
     "execution_count": 142,
     "metadata": {},
     "output_type": "execute_result"
    }
   ],
   "source": [
    "test_data.columns"
   ]
  },
  {
   "cell_type": "code",
   "execution_count": 161,
   "metadata": {
    "collapsed": false
   },
   "outputs": [],
   "source": [
    "test_data[\"Total\"] = test_data[\"Jan\"] + test_data[\"Feb\"] + test_data[\"Mar\"]"
   ]
  },
  {
   "cell_type": "code",
   "execution_count": 166,
   "metadata": {
    "collapsed": false
   },
   "outputs": [
    {
     "data": {
      "text/html": [
       "<div>\n",
       "<table border=\"1\" class=\"dataframe\">\n",
       "  <thead>\n",
       "    <tr style=\"text-align: right;\">\n",
       "      <th></th>\n",
       "      <th>account</th>\n",
       "      <th>name</th>\n",
       "      <th>street</th>\n",
       "      <th>city</th>\n",
       "      <th>state</th>\n",
       "      <th>postal-code</th>\n",
       "      <th>Jan</th>\n",
       "      <th>Feb</th>\n",
       "      <th>Mar</th>\n",
       "      <th>Total</th>\n",
       "    </tr>\n",
       "  </thead>\n",
       "  <tbody>\n",
       "    <tr>\n",
       "      <th>14</th>\n",
       "      <td>273274</td>\n",
       "      <td>McDermott PLC</td>\n",
       "      <td>8917 Bergstrom Meadow</td>\n",
       "      <td>Kathryneborough</td>\n",
       "      <td>Delaware</td>\n",
       "      <td>27933</td>\n",
       "      <td>150000</td>\n",
       "      <td>120000</td>\n",
       "      <td>70000</td>\n",
       "      <td>340000</td>\n",
       "    </tr>\n",
       "  </tbody>\n",
       "</table>\n",
       "</div>"
      ],
      "text/plain": [
       "    account           name                 street             city     state  \\\n",
       "14   273274  McDermott PLC  8917 Bergstrom Meadow  Kathryneborough  Delaware   \n",
       "\n",
       "    postal-code     Jan     Feb    Mar   Total  \n",
       "14        27933  150000  120000  70000  340000  "
      ]
     },
     "execution_count": 166,
     "metadata": {},
     "output_type": "execute_result"
    }
   ],
   "source": [
    "test_data[test_data[\"Total\"] == test_data[\"Total\"].max()] "
   ]
  },
  {
   "cell_type": "code",
   "execution_count": 167,
   "metadata": {
    "collapsed": false
   },
   "outputs": [
    {
     "data": {
      "text/html": [
       "<div>\n",
       "<table border=\"1\" class=\"dataframe\">\n",
       "  <thead>\n",
       "    <tr style=\"text-align: right;\">\n",
       "      <th></th>\n",
       "      <th>account</th>\n",
       "      <th>name</th>\n",
       "      <th>street</th>\n",
       "      <th>city</th>\n",
       "      <th>state</th>\n",
       "      <th>postal-code</th>\n",
       "      <th>Jan</th>\n",
       "      <th>Feb</th>\n",
       "      <th>Mar</th>\n",
       "      <th>Total</th>\n",
       "    </tr>\n",
       "  </thead>\n",
       "  <tbody>\n",
       "    <tr>\n",
       "      <th>0</th>\n",
       "      <td>211829</td>\n",
       "      <td>Kerluke, Koepp and Hilpert</td>\n",
       "      <td>34456 Sean Highway</td>\n",
       "      <td>New Jaycob</td>\n",
       "      <td>Texas</td>\n",
       "      <td>28752</td>\n",
       "      <td>10000</td>\n",
       "      <td>62000</td>\n",
       "      <td>35000</td>\n",
       "      <td>107000</td>\n",
       "    </tr>\n",
       "  </tbody>\n",
       "</table>\n",
       "</div>"
      ],
      "text/plain": [
       "   account                        name              street        city  state  \\\n",
       "0   211829  Kerluke, Koepp and Hilpert  34456 Sean Highway  New Jaycob  Texas   \n",
       "\n",
       "   postal-code    Jan    Feb    Mar   Total  \n",
       "0        28752  10000  62000  35000  107000  "
      ]
     },
     "execution_count": 167,
     "metadata": {},
     "output_type": "execute_result"
    }
   ],
   "source": [
    "test_data[test_data[\"Total\"] == test_data[\"Total\"].min()] "
   ]
  },
  {
   "cell_type": "code",
   "execution_count": 168,
   "metadata": {
    "collapsed": false
   },
   "outputs": [
    {
     "data": {
      "text/html": [
       "<div>\n",
       "<table border=\"1\" class=\"dataframe\">\n",
       "  <thead>\n",
       "    <tr style=\"text-align: right;\">\n",
       "      <th></th>\n",
       "      <th>account</th>\n",
       "      <th>name</th>\n",
       "      <th>street</th>\n",
       "      <th>city</th>\n",
       "      <th>state</th>\n",
       "      <th>postal-code</th>\n",
       "      <th>Jan</th>\n",
       "      <th>Feb</th>\n",
       "      <th>Mar</th>\n",
       "      <th>Total</th>\n",
       "    </tr>\n",
       "  </thead>\n",
       "  <tbody>\n",
       "    <tr>\n",
       "      <th>0</th>\n",
       "      <td>211829</td>\n",
       "      <td>Kerluke, Koepp and Hilpert</td>\n",
       "      <td>34456 Sean Highway</td>\n",
       "      <td>New Jaycob</td>\n",
       "      <td>Texas</td>\n",
       "      <td>28752</td>\n",
       "      <td>10000</td>\n",
       "      <td>62000</td>\n",
       "      <td>35000</td>\n",
       "      <td>107000</td>\n",
       "    </tr>\n",
       "  </tbody>\n",
       "</table>\n",
       "</div>"
      ],
      "text/plain": [
       "   account                        name              street        city  state  \\\n",
       "0   211829  Kerluke, Koepp and Hilpert  34456 Sean Highway  New Jaycob  Texas   \n",
       "\n",
       "   postal-code    Jan    Feb    Mar   Total  \n",
       "0        28752  10000  62000  35000  107000  "
      ]
     },
     "execution_count": 168,
     "metadata": {},
     "output_type": "execute_result"
    }
   ],
   "source": [
    "test_data[test_data[\"Jan\"] == test_data[\"Jan\"].min()] "
   ]
  },
  {
   "cell_type": "code",
   "execution_count": 173,
   "metadata": {
    "collapsed": false
   },
   "outputs": [
    {
     "data": {
      "text/plain": [
       "1462000"
      ]
     },
     "execution_count": 173,
     "metadata": {},
     "output_type": "execute_result"
    }
   ],
   "source": [
    "test_data[\"Jan\"].sum()"
   ]
  },
  {
   "cell_type": "code",
   "execution_count": 200,
   "metadata": {
    "collapsed": false
   },
   "outputs": [
    {
     "data": {
      "text/html": [
       "<div>\n",
       "<table border=\"1\" class=\"dataframe\">\n",
       "  <thead>\n",
       "    <tr style=\"text-align: right;\">\n",
       "      <th></th>\n",
       "      <th>Total</th>\n",
       "      <th>Mar</th>\n",
       "      <th>Feb</th>\n",
       "      <th>Jan</th>\n",
       "      <th>postal-code</th>\n",
       "      <th>state</th>\n",
       "      <th>city</th>\n",
       "      <th>street</th>\n",
       "      <th>name</th>\n",
       "      <th>account</th>\n",
       "    </tr>\n",
       "  </thead>\n",
       "  <tbody>\n",
       "    <tr>\n",
       "      <th>14</th>\n",
       "      <td>340000</td>\n",
       "      <td>70000</td>\n",
       "      <td>120000</td>\n",
       "      <td>150000</td>\n",
       "      <td>27933</td>\n",
       "      <td>Delaware</td>\n",
       "      <td>Kathryneborough</td>\n",
       "      <td>8917 Bergstrom Meadow</td>\n",
       "      <td>McDermott PLC</td>\n",
       "      <td>273274</td>\n",
       "    </tr>\n",
       "    <tr>\n",
       "      <th>13</th>\n",
       "      <td>210000</td>\n",
       "      <td>35000</td>\n",
       "      <td>120000</td>\n",
       "      <td>55000</td>\n",
       "      <td>31919</td>\n",
       "      <td>RhodeIsland</td>\n",
       "      <td>Goodwinmouth</td>\n",
       "      <td>2624 Beatty Parkways</td>\n",
       "      <td>Walsh-Haley</td>\n",
       "      <td>268755</td>\n",
       "    </tr>\n",
       "    <tr>\n",
       "      <th>12</th>\n",
       "      <td>317000</td>\n",
       "      <td>35000</td>\n",
       "      <td>120000</td>\n",
       "      <td>162000</td>\n",
       "      <td>72686</td>\n",
       "      <td>Iowa</td>\n",
       "      <td>East Davian</td>\n",
       "      <td>182 Bertie Road</td>\n",
       "      <td>Frami, Anderson and Donnelly</td>\n",
       "      <td>242368</td>\n",
       "    </tr>\n",
       "    <tr>\n",
       "      <th>11</th>\n",
       "      <td>322000</td>\n",
       "      <td>162000</td>\n",
       "      <td>10000</td>\n",
       "      <td>150000</td>\n",
       "      <td>31415</td>\n",
       "      <td>NorthDakota</td>\n",
       "      <td>Norbertomouth</td>\n",
       "      <td>18115 Olivine Throughway</td>\n",
       "      <td>Hahn-Moore</td>\n",
       "      <td>231907</td>\n",
       "    </tr>\n",
       "    <tr>\n",
       "      <th>10</th>\n",
       "      <td>220000</td>\n",
       "      <td>55000</td>\n",
       "      <td>120000</td>\n",
       "      <td>45000</td>\n",
       "      <td>47743</td>\n",
       "      <td>Tenessee</td>\n",
       "      <td>Rosaberg</td>\n",
       "      <td>649 Cierra Forks Apt. 078</td>\n",
       "      <td>Goodwin, Homenick and Jerde</td>\n",
       "      <td>214098</td>\n",
       "    </tr>\n",
       "    <tr>\n",
       "      <th>9</th>\n",
       "      <td>225000</td>\n",
       "      <td>35000</td>\n",
       "      <td>120000</td>\n",
       "      <td>70000</td>\n",
       "      <td>46308</td>\n",
       "      <td>Idaho</td>\n",
       "      <td>North Ras</td>\n",
       "      <td>366 Maggio Grove Apt. 998</td>\n",
       "      <td>Gerhold-Maggio</td>\n",
       "      <td>212303</td>\n",
       "    </tr>\n",
       "    <tr>\n",
       "      <th>8</th>\n",
       "      <td>200000</td>\n",
       "      <td>35000</td>\n",
       "      <td>95000</td>\n",
       "      <td>70000</td>\n",
       "      <td>64415</td>\n",
       "      <td>Pennsylvania</td>\n",
       "      <td>Lake Juliannton</td>\n",
       "      <td>26739 Grant Lock</td>\n",
       "      <td>Champlin-Morar</td>\n",
       "      <td>209744</td>\n",
       "    </tr>\n",
       "    <tr>\n",
       "      <th>7</th>\n",
       "      <td>275000</td>\n",
       "      <td>35000</td>\n",
       "      <td>95000</td>\n",
       "      <td>145000</td>\n",
       "      <td>53461</td>\n",
       "      <td>RhodeIsland</td>\n",
       "      <td>Deronville</td>\n",
       "      <td>91971 Cronin Vista Suite 601</td>\n",
       "      <td>Kovacek-Johnston</td>\n",
       "      <td>205217</td>\n",
       "    </tr>\n",
       "    <tr>\n",
       "      <th>6</th>\n",
       "      <td>252000</td>\n",
       "      <td>70000</td>\n",
       "      <td>120000</td>\n",
       "      <td>62000</td>\n",
       "      <td>18008</td>\n",
       "      <td>Mississipi</td>\n",
       "      <td>Lake Gabriellaton</td>\n",
       "      <td>340 Consuela Bridge Apt. 400</td>\n",
       "      <td>Casper LLC</td>\n",
       "      <td>145068</td>\n",
       "    </tr>\n",
       "    <tr>\n",
       "      <th>5</th>\n",
       "      <td>305000</td>\n",
       "      <td>35000</td>\n",
       "      <td>120000</td>\n",
       "      <td>150000</td>\n",
       "      <td>62785</td>\n",
       "      <td>Arkansas</td>\n",
       "      <td>Jeremieburgh</td>\n",
       "      <td>89403 Casimer Spring</td>\n",
       "      <td>Williamson, Schumm and Hettinger</td>\n",
       "      <td>132971</td>\n",
       "    </tr>\n",
       "    <tr>\n",
       "      <th>4</th>\n",
       "      <td>317000</td>\n",
       "      <td>35000</td>\n",
       "      <td>120000</td>\n",
       "      <td>162000</td>\n",
       "      <td>49681</td>\n",
       "      <td>California</td>\n",
       "      <td>Shanahanchester</td>\n",
       "      <td>7274 Marissa Common</td>\n",
       "      <td>Bauch-Goldner</td>\n",
       "      <td>121213</td>\n",
       "    </tr>\n",
       "    <tr>\n",
       "      <th>3</th>\n",
       "      <td>175000</td>\n",
       "      <td>10000</td>\n",
       "      <td>120000</td>\n",
       "      <td>45000</td>\n",
       "      <td>46021</td>\n",
       "      <td>Maine</td>\n",
       "      <td>Hyattburgh</td>\n",
       "      <td>155 Fadel Crescent Apt. 144</td>\n",
       "      <td>D'Amore, Gleichner and Bode</td>\n",
       "      <td>109996</td>\n",
       "    </tr>\n",
       "    <tr>\n",
       "      <th>2</th>\n",
       "      <td>246000</td>\n",
       "      <td>35000</td>\n",
       "      <td>120000</td>\n",
       "      <td>91000</td>\n",
       "      <td>76517</td>\n",
       "      <td>Iowa</td>\n",
       "      <td>New Lilianland</td>\n",
       "      <td>62184 Schamberger Underpass Apt. 231</td>\n",
       "      <td>Bashirian, Kunde and Price</td>\n",
       "      <td>648336</td>\n",
       "    </tr>\n",
       "    <tr>\n",
       "      <th>1</th>\n",
       "      <td>175000</td>\n",
       "      <td>35000</td>\n",
       "      <td>45000</td>\n",
       "      <td>95000</td>\n",
       "      <td>38365</td>\n",
       "      <td>NorthCarolina</td>\n",
       "      <td>Port Khadijah</td>\n",
       "      <td>1311 Alvis Tunnel</td>\n",
       "      <td>Walter-Trantow</td>\n",
       "      <td>320563</td>\n",
       "    </tr>\n",
       "    <tr>\n",
       "      <th>0</th>\n",
       "      <td>107000</td>\n",
       "      <td>35000</td>\n",
       "      <td>62000</td>\n",
       "      <td>10000</td>\n",
       "      <td>28752</td>\n",
       "      <td>Texas</td>\n",
       "      <td>New Jaycob</td>\n",
       "      <td>34456 Sean Highway</td>\n",
       "      <td>Kerluke, Koepp and Hilpert</td>\n",
       "      <td>211829</td>\n",
       "    </tr>\n",
       "  </tbody>\n",
       "</table>\n",
       "</div>"
      ],
      "text/plain": [
       "     Total     Mar     Feb     Jan  postal-code          state  \\\n",
       "14  340000   70000  120000  150000        27933       Delaware   \n",
       "13  210000   35000  120000   55000        31919    RhodeIsland   \n",
       "12  317000   35000  120000  162000        72686           Iowa   \n",
       "11  322000  162000   10000  150000        31415    NorthDakota   \n",
       "10  220000   55000  120000   45000        47743       Tenessee   \n",
       "9   225000   35000  120000   70000        46308          Idaho   \n",
       "8   200000   35000   95000   70000        64415   Pennsylvania   \n",
       "7   275000   35000   95000  145000        53461    RhodeIsland   \n",
       "6   252000   70000  120000   62000        18008     Mississipi   \n",
       "5   305000   35000  120000  150000        62785       Arkansas   \n",
       "4   317000   35000  120000  162000        49681     California   \n",
       "3   175000   10000  120000   45000        46021          Maine   \n",
       "2   246000   35000  120000   91000        76517           Iowa   \n",
       "1   175000   35000   45000   95000        38365  NorthCarolina   \n",
       "0   107000   35000   62000   10000        28752          Texas   \n",
       "\n",
       "                 city                                street  \\\n",
       "14    Kathryneborough                 8917 Bergstrom Meadow   \n",
       "13       Goodwinmouth                  2624 Beatty Parkways   \n",
       "12        East Davian                       182 Bertie Road   \n",
       "11      Norbertomouth              18115 Olivine Throughway   \n",
       "10           Rosaberg             649 Cierra Forks Apt. 078   \n",
       "9           North Ras             366 Maggio Grove Apt. 998   \n",
       "8     Lake Juliannton                      26739 Grant Lock   \n",
       "7          Deronville          91971 Cronin Vista Suite 601   \n",
       "6   Lake Gabriellaton          340 Consuela Bridge Apt. 400   \n",
       "5        Jeremieburgh                  89403 Casimer Spring   \n",
       "4     Shanahanchester                   7274 Marissa Common   \n",
       "3          Hyattburgh           155 Fadel Crescent Apt. 144   \n",
       "2      New Lilianland  62184 Schamberger Underpass Apt. 231   \n",
       "1       Port Khadijah                     1311 Alvis Tunnel   \n",
       "0          New Jaycob                    34456 Sean Highway   \n",
       "\n",
       "                                name  account  \n",
       "14                     McDermott PLC   273274  \n",
       "13                       Walsh-Haley   268755  \n",
       "12      Frami, Anderson and Donnelly   242368  \n",
       "11                        Hahn-Moore   231907  \n",
       "10       Goodwin, Homenick and Jerde   214098  \n",
       "9                     Gerhold-Maggio   212303  \n",
       "8                     Champlin-Morar   209744  \n",
       "7                   Kovacek-Johnston   205217  \n",
       "6                         Casper LLC   145068  \n",
       "5   Williamson, Schumm and Hettinger   132971  \n",
       "4                      Bauch-Goldner   121213  \n",
       "3        D'Amore, Gleichner and Bode   109996  \n",
       "2         Bashirian, Kunde and Price   648336  \n",
       "1                     Walter-Trantow   320563  \n",
       "0         Kerluke, Koepp and Hilpert   211829  "
      ]
     },
     "execution_count": 200,
     "metadata": {},
     "output_type": "execute_result"
    }
   ],
   "source": [
    "test_data.iloc[::-1,::-1]"
   ]
  },
  {
   "cell_type": "code",
   "execution_count": 202,
   "metadata": {
    "collapsed": false
   },
   "outputs": [
    {
     "data": {
      "text/plain": [
       "<bound method DataFrame.info of     account                              name  \\\n",
       "0    211829        Kerluke, Koepp and Hilpert   \n",
       "1    320563                    Walter-Trantow   \n",
       "2    648336        Bashirian, Kunde and Price   \n",
       "3    109996       D'Amore, Gleichner and Bode   \n",
       "4    121213                     Bauch-Goldner   \n",
       "5    132971  Williamson, Schumm and Hettinger   \n",
       "6    145068                        Casper LLC   \n",
       "7    205217                  Kovacek-Johnston   \n",
       "8    209744                    Champlin-Morar   \n",
       "9    212303                    Gerhold-Maggio   \n",
       "10   214098       Goodwin, Homenick and Jerde   \n",
       "11   231907                        Hahn-Moore   \n",
       "12   242368      Frami, Anderson and Donnelly   \n",
       "13   268755                       Walsh-Haley   \n",
       "14   273274                     McDermott PLC   \n",
       "\n",
       "                                  street               city          state  \\\n",
       "0                     34456 Sean Highway         New Jaycob          Texas   \n",
       "1                      1311 Alvis Tunnel      Port Khadijah  NorthCarolina   \n",
       "2   62184 Schamberger Underpass Apt. 231     New Lilianland           Iowa   \n",
       "3            155 Fadel Crescent Apt. 144         Hyattburgh          Maine   \n",
       "4                    7274 Marissa Common    Shanahanchester     California   \n",
       "5                   89403 Casimer Spring       Jeremieburgh       Arkansas   \n",
       "6           340 Consuela Bridge Apt. 400  Lake Gabriellaton     Mississipi   \n",
       "7           91971 Cronin Vista Suite 601         Deronville    RhodeIsland   \n",
       "8                       26739 Grant Lock    Lake Juliannton   Pennsylvania   \n",
       "9              366 Maggio Grove Apt. 998          North Ras          Idaho   \n",
       "10             649 Cierra Forks Apt. 078           Rosaberg       Tenessee   \n",
       "11              18115 Olivine Throughway      Norbertomouth    NorthDakota   \n",
       "12                       182 Bertie Road        East Davian           Iowa   \n",
       "13                  2624 Beatty Parkways       Goodwinmouth    RhodeIsland   \n",
       "14                 8917 Bergstrom Meadow    Kathryneborough       Delaware   \n",
       "\n",
       "    postal-code     Jan     Feb     Mar   Total  \n",
       "0         28752   10000   62000   35000  107000  \n",
       "1         38365   95000   45000   35000  175000  \n",
       "2         76517   91000  120000   35000  246000  \n",
       "3         46021   45000  120000   10000  175000  \n",
       "4         49681  162000  120000   35000  317000  \n",
       "5         62785  150000  120000   35000  305000  \n",
       "6         18008   62000  120000   70000  252000  \n",
       "7         53461  145000   95000   35000  275000  \n",
       "8         64415   70000   95000   35000  200000  \n",
       "9         46308   70000  120000   35000  225000  \n",
       "10        47743   45000  120000   55000  220000  \n",
       "11        31415  150000   10000  162000  322000  \n",
       "12        72686  162000  120000   35000  317000  \n",
       "13        31919   55000  120000   35000  210000  \n",
       "14        27933  150000  120000   70000  340000  >"
      ]
     },
     "execution_count": 202,
     "metadata": {},
     "output_type": "execute_result"
    }
   ],
   "source": [
    "test_data.info"
   ]
  },
  {
   "cell_type": "code",
   "execution_count": 208,
   "metadata": {
    "collapsed": false
   },
   "outputs": [
    {
     "data": {
      "text/plain": [
       "<bound method NDFrame.describe of     account                              name  \\\n",
       "0    211829        Kerluke, Koepp and Hilpert   \n",
       "1    320563                    Walter-Trantow   \n",
       "2    648336        Bashirian, Kunde and Price   \n",
       "3    109996       D'Amore, Gleichner and Bode   \n",
       "4    121213                     Bauch-Goldner   \n",
       "5    132971  Williamson, Schumm and Hettinger   \n",
       "6    145068                        Casper LLC   \n",
       "7    205217                  Kovacek-Johnston   \n",
       "8    209744                    Champlin-Morar   \n",
       "9    212303                    Gerhold-Maggio   \n",
       "10   214098       Goodwin, Homenick and Jerde   \n",
       "11   231907                        Hahn-Moore   \n",
       "12   242368      Frami, Anderson and Donnelly   \n",
       "13   268755                       Walsh-Haley   \n",
       "14   273274                     McDermott PLC   \n",
       "\n",
       "                                  street               city          state  \\\n",
       "0                     34456 Sean Highway         New Jaycob          Texas   \n",
       "1                      1311 Alvis Tunnel      Port Khadijah  NorthCarolina   \n",
       "2   62184 Schamberger Underpass Apt. 231     New Lilianland           Iowa   \n",
       "3            155 Fadel Crescent Apt. 144         Hyattburgh          Maine   \n",
       "4                    7274 Marissa Common    Shanahanchester     California   \n",
       "5                   89403 Casimer Spring       Jeremieburgh       Arkansas   \n",
       "6           340 Consuela Bridge Apt. 400  Lake Gabriellaton     Mississipi   \n",
       "7           91971 Cronin Vista Suite 601         Deronville    RhodeIsland   \n",
       "8                       26739 Grant Lock    Lake Juliannton   Pennsylvania   \n",
       "9              366 Maggio Grove Apt. 998          North Ras          Idaho   \n",
       "10             649 Cierra Forks Apt. 078           Rosaberg       Tenessee   \n",
       "11              18115 Olivine Throughway      Norbertomouth    NorthDakota   \n",
       "12                       182 Bertie Road        East Davian           Iowa   \n",
       "13                  2624 Beatty Parkways       Goodwinmouth    RhodeIsland   \n",
       "14                 8917 Bergstrom Meadow    Kathryneborough       Delaware   \n",
       "\n",
       "    postal-code     Jan     Feb     Mar   Total  \n",
       "0         28752   10000   62000   35000  107000  \n",
       "1         38365   95000   45000   35000  175000  \n",
       "2         76517   91000  120000   35000  246000  \n",
       "3         46021   45000  120000   10000  175000  \n",
       "4         49681  162000  120000   35000  317000  \n",
       "5         62785  150000  120000   35000  305000  \n",
       "6         18008   62000  120000   70000  252000  \n",
       "7         53461  145000   95000   35000  275000  \n",
       "8         64415   70000   95000   35000  200000  \n",
       "9         46308   70000  120000   35000  225000  \n",
       "10        47743   45000  120000   55000  220000  \n",
       "11        31415  150000   10000  162000  322000  \n",
       "12        72686  162000  120000   35000  317000  \n",
       "13        31919   55000  120000   35000  210000  \n",
       "14        27933  150000  120000   70000  340000  >"
      ]
     },
     "execution_count": 208,
     "metadata": {},
     "output_type": "execute_result"
    }
   ],
   "source": [
    "test_data.describe"
   ]
  },
  {
   "cell_type": "code",
   "execution_count": null,
   "metadata": {
    "collapsed": true
   },
   "outputs": [],
   "source": []
  },
  {
   "cell_type": "code",
   "execution_count": null,
   "metadata": {
    "collapsed": true
   },
   "outputs": [],
   "source": []
  },
  {
   "cell_type": "code",
   "execution_count": null,
   "metadata": {
    "collapsed": true
   },
   "outputs": [],
   "source": []
  }
 ],
 "metadata": {
  "kernelspec": {
   "display_name": "Python 3",
   "language": "python",
   "name": "python3"
  },
  "language_info": {
   "codemirror_mode": {
    "name": "ipython",
    "version": 3
   },
   "file_extension": ".py",
   "mimetype": "text/x-python",
   "name": "python",
   "nbconvert_exporter": "python",
   "pygments_lexer": "ipython3",
   "version": "3.6.6"
  }
 },
 "nbformat": 4,
 "nbformat_minor": 2
}
