{
 "cells": [
  {
   "cell_type": "markdown",
   "metadata": {},
   "source": [
    "Data 29-08-2018\n",
    "knn \n",
    "machine learning"
   ]
  },
  {
   "cell_type": "code",
   "execution_count": 48,
   "metadata": {
    "collapsed": true
   },
   "outputs": [],
   "source": [
    "# package numpy is for array operation\n",
    "import numpy as np # creating and the accesss of the matrix\n",
    "# importing the KNeighborsClassifier class from the sklearn library from neighbors GLOBAL CLASS \n",
    "from sklearn.neighbors import KNeighborsClassifier"
   ]
  },
  {
   "cell_type": "markdown",
   "metadata": {},
   "source": [
    "## knearest neighbours \n",
    "1. caluculate the eculidian distance - > sqrt((x1-y1)^2 - (x2-y2)^2)\n",
    "2. finding the minimum distance \n",
    "3. demerits -> it is sluggish and the non-paramatric algorithm\n",
    " used when the number of the samples is limited "
   ]
  },
  {
   "cell_type": "code",
   "execution_count": 51,
   "metadata": {
    "collapsed": false
   },
   "outputs": [],
   "source": [
    "my_fruit_feature = np.array([[1,9],[2,8],[3,7],[2,8],[6,4],[9,1],[8,2],[9,1],[1,1],[5,5]])"
   ]
  },
  {
   "cell_type": "code",
   "execution_count": 52,
   "metadata": {
    "collapsed": false
   },
   "outputs": [
    {
     "data": {
      "text/plain": [
       "array([[1, 9],\n",
       "       [2, 8],\n",
       "       [3, 7],\n",
       "       [2, 8],\n",
       "       [6, 4],\n",
       "       [9, 1],\n",
       "       [8, 2],\n",
       "       [9, 1],\n",
       "       [1, 1],\n",
       "       [5, 5]])"
      ]
     },
     "execution_count": 52,
     "metadata": {},
     "output_type": "execute_result"
    }
   ],
   "source": [
    "my_fruit_feature"
   ]
  },
  {
   "cell_type": "code",
   "execution_count": 53,
   "metadata": {
    "collapsed": false
   },
   "outputs": [
    {
     "name": "stdout",
     "output_type": "stream",
     "text": [
      "2\n",
      "(10, 2)\n"
     ]
    }
   ],
   "source": [
    "#the shape and the size  of the array \n",
    "print(my_fruit_feature.ndim)\n",
    "print(my_fruit_feature.shape)"
   ]
  },
  {
   "cell_type": "code",
   "execution_count": 65,
   "metadata": {
    "collapsed": true
   },
   "outputs": [],
   "source": [
    "m_target = np.array([\"sour\",\"sour\",\"sour\",\"sour\" , \"sweet\", \"sweet\", \"sweet\",\"sweet\",\"none\" ,\"sour\"])"
   ]
  },
  {
   "cell_type": "code",
   "execution_count": 66,
   "metadata": {
    "collapsed": false
   },
   "outputs": [
    {
     "data": {
      "text/plain": [
       "(10,)"
      ]
     },
     "execution_count": 66,
     "metadata": {},
     "output_type": "execute_result"
    }
   ],
   "source": [
    "m_target.shape"
   ]
  },
  {
   "cell_type": "code",
   "execution_count": 91,
   "metadata": {
    "collapsed": false
   },
   "outputs": [],
   "source": [
    "# myknn object init the constructor \n",
    "\n",
    "# value of k should be less than or equal to the sqrt(# of sample) \n",
    "\n",
    "model = KNeighborsClassifier(n_neighbors=3)"
   ]
  },
  {
   "cell_type": "code",
   "execution_count": 92,
   "metadata": {
    "collapsed": false
   },
   "outputs": [],
   "source": [
    "mymodel = model.fit(my_fruit_feature, m_target)"
   ]
  },
  {
   "cell_type": "code",
   "execution_count": 100,
   "metadata": {
    "collapsed": false
   },
   "outputs": [
    {
     "data": {
      "text/plain": [
       "array(['none'], \n",
       "      dtype='<U5')"
      ]
     },
     "execution_count": 100,
     "metadata": {},
     "output_type": "execute_result"
    }
   ],
   "source": [
    "mymodel.predict([[3,3]])"
   ]
  },
  {
   "cell_type": "code",
   "execution_count": 96,
   "metadata": {
    "collapsed": false
   },
   "outputs": [
    {
     "data": {
      "text/plain": [
       "array(['none'], \n",
       "      dtype='<U5')"
      ]
     },
     "execution_count": 96,
     "metadata": {},
     "output_type": "execute_result"
    }
   ],
   "source": [
    "#  becaure 4,4 is not near to the 1,1 \n",
    "# accracy = correct answers  total answers\n",
    "# accuracy  score = # of right class. / total n# of the samples\n",
    "mymodel.predict([[1,1]])"
   ]
  },
  {
   "cell_type": "code",
   "execution_count": 98,
   "metadata": {
    "collapsed": false
   },
   "outputs": [],
   "source": [
    "# siulation predicting the output without being in the real field\n",
    "# test and the train set"
   ]
  },
  {
   "cell_type": "code",
   "execution_count": 102,
   "metadata": {
    "collapsed": false
   },
   "outputs": [],
   "source": [
    "xtrain  = my_fruit_feature[:-2]\n",
    "xtest  = my_fruit_feature[-2:]\n",
    "ytrain  = m_target[:-2]\n",
    "ytest  = m_target[-2:]"
   ]
  },
  {
   "cell_type": "markdown",
   "metadata": {
    "collapsed": true
   },
   "source": []
  },
  {
   "cell_type": "code",
   "execution_count": null,
   "metadata": {
    "collapsed": true
   },
   "outputs": [],
   "source": []
  }
 ],
 "metadata": {
  "kernelspec": {
   "display_name": "Python 3",
   "language": "python",
   "name": "python3"
  },
  "language_info": {
   "codemirror_mode": {
    "name": "ipython",
    "version": 3
   },
   "file_extension": ".py",
   "mimetype": "text/x-python",
   "name": "python",
   "nbconvert_exporter": "python",
   "pygments_lexer": "ipython3",
   "version": "3.6.6"
  }
 },
 "nbformat": 4,
 "nbformat_minor": 2
}
